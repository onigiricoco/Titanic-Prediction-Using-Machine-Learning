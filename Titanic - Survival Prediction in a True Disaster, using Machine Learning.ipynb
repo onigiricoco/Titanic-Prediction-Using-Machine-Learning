{
 "cells": [
  {
   "cell_type": "markdown",
   "id": "83660710",
   "metadata": {},
   "source": [
    "## Titanic Prediction"
   ]
  },
  {
   "cell_type": "markdown",
   "id": "08c9d516",
   "metadata": {},
   "source": [
    "The Titanic dataset is a very famous example dataset for beginners for machine learning on Kaggle. By analyzing features such as Economic-social-class and gender, we could take a glimpse at the real historical scene of the catastrophic event, which happened a hundred years ago.\n",
    "\n",
    "In this code report, I would use machine learning to build a model, to analyze those factors which weight in causing a difference in the survival result, and to make a prediction on the given test set based on our model.\n",
    "\n",
    "We will take an insight into several algorithms and compare the accuracy and recall score between them.\n"
   ]
  },
  {
   "cell_type": "code",
   "execution_count": 2,
   "id": "35be38b0",
   "metadata": {},
   "outputs": [],
   "source": [
    "import numpy as np\n",
    "import pandas as pd\n",
    "import matplotlib.pyplot as mp\n",
    "\n",
    "from sklearn.metrics import accuracy_score\n",
    "from sklearn import preprocessing\n",
    "from sklearn.model_selection import train_test_split\n",
    "from sklearn.model_selection import cross_val_score\n",
    "\n",
    "from sklearn.ensemble import RandomForestClassifier\n",
    "from sklearn.ensemble import GradientBoostingClassifier\n",
    "from sklearn.linear_model import LogisticRegression\n",
    "from sklearn.linear_model import SGDClassifier\n",
    "from sklearn.svm import SVC\n"
   ]
  },
  {
   "cell_type": "code",
   "execution_count": 3,
   "id": "b4aebee5",
   "metadata": {},
   "outputs": [
    {
     "data": {
      "text/plain": [
       "((891, 12), (418, 11))"
      ]
     },
     "execution_count": 3,
     "metadata": {},
     "output_type": "execute_result"
    }
   ],
   "source": [
    "train=pd.read_csv('./titanic/train.csv')\n",
    "test=pd.read_csv('./titanic/test.csv')\n",
    "train.shape,test.shape"
   ]
  },
  {
   "cell_type": "code",
   "execution_count": 4,
   "id": "e53058cb",
   "metadata": {
    "scrolled": true
   },
   "outputs": [
    {
     "name": "stdout",
     "output_type": "stream",
     "text": [
      "<class 'pandas.core.frame.DataFrame'>\n",
      "RangeIndex: 891 entries, 0 to 890\n",
      "Data columns (total 12 columns):\n",
      " #   Column       Non-Null Count  Dtype  \n",
      "---  ------       --------------  -----  \n",
      " 0   PassengerId  891 non-null    int64  \n",
      " 1   Survived     891 non-null    int64  \n",
      " 2   Pclass       891 non-null    int64  \n",
      " 3   Name         891 non-null    object \n",
      " 4   Sex          891 non-null    object \n",
      " 5   Age          714 non-null    float64\n",
      " 6   SibSp        891 non-null    int64  \n",
      " 7   Parch        891 non-null    int64  \n",
      " 8   Ticket       891 non-null    object \n",
      " 9   Fare         891 non-null    float64\n",
      " 10  Cabin        204 non-null    object \n",
      " 11  Embarked     889 non-null    object \n",
      "dtypes: float64(2), int64(5), object(5)\n",
      "memory usage: 83.7+ KB\n",
      "---------------\n",
      "percentage of NA per property sorted\n",
      "---------------\n",
      "Cabin          77.104377\n",
      "Age            19.865320\n",
      "Embarked        0.224467\n",
      "PassengerId     0.000000\n",
      "Survived        0.000000\n",
      "Pclass          0.000000\n",
      "Name            0.000000\n",
      "Sex             0.000000\n",
      "SibSp           0.000000\n",
      "Parch           0.000000\n",
      "Ticket          0.000000\n",
      "Fare            0.000000\n",
      "dtype: float64\n",
      "---------------\n",
      "unique values for duplications and other info \n",
      "---------------\n",
      "Survived         2\n",
      "Sex              2\n",
      "Pclass           3\n",
      "Embarked         3\n",
      "SibSp            7\n",
      "Parch            7\n",
      "Age             88\n",
      "Cabin          147\n",
      "Fare           248\n",
      "Ticket         681\n",
      "PassengerId    891\n",
      "Name           891\n",
      "dtype: int64\n"
     ]
    }
   ],
   "source": [
    "train.info()\n",
    "print('---'*5)\n",
    "print('percentage of NA per property sorted')\n",
    "print('---'*5)\n",
    "p=(train.isna().sum()/len(train)*100).sort_values(ascending=False)\n",
    "print(p)\n",
    "\n",
    "\n",
    "print('---'*5)\n",
    "print('unique values for duplications and other info ')\n",
    "print('---'*5)\n",
    "u=train.nunique().sort_values()\n",
    "print(u)"
   ]
  },
  {
   "cell_type": "code",
   "execution_count": 5,
   "id": "9a95af6a",
   "metadata": {
    "scrolled": true
   },
   "outputs": [
    {
     "data": {
      "text/html": [
       "<div>\n",
       "<style scoped>\n",
       "    .dataframe tbody tr th:only-of-type {\n",
       "        vertical-align: middle;\n",
       "    }\n",
       "\n",
       "    .dataframe tbody tr th {\n",
       "        vertical-align: top;\n",
       "    }\n",
       "\n",
       "    .dataframe thead th {\n",
       "        text-align: right;\n",
       "    }\n",
       "</style>\n",
       "<table border=\"1\" class=\"dataframe\">\n",
       "  <thead>\n",
       "    <tr style=\"text-align: right;\">\n",
       "      <th></th>\n",
       "      <th>PassengerId</th>\n",
       "      <th>Survived</th>\n",
       "      <th>Pclass</th>\n",
       "      <th>Name</th>\n",
       "      <th>Sex</th>\n",
       "      <th>Age</th>\n",
       "      <th>SibSp</th>\n",
       "      <th>Parch</th>\n",
       "      <th>Ticket</th>\n",
       "      <th>Fare</th>\n",
       "      <th>Cabin</th>\n",
       "      <th>Embarked</th>\n",
       "    </tr>\n",
       "  </thead>\n",
       "  <tbody>\n",
       "    <tr>\n",
       "      <th>0</th>\n",
       "      <td>1</td>\n",
       "      <td>0</td>\n",
       "      <td>3</td>\n",
       "      <td>Braund, Mr. Owen Harris</td>\n",
       "      <td>male</td>\n",
       "      <td>22.0</td>\n",
       "      <td>1</td>\n",
       "      <td>0</td>\n",
       "      <td>A/5 21171</td>\n",
       "      <td>7.2500</td>\n",
       "      <td>NaN</td>\n",
       "      <td>S</td>\n",
       "    </tr>\n",
       "    <tr>\n",
       "      <th>1</th>\n",
       "      <td>2</td>\n",
       "      <td>1</td>\n",
       "      <td>1</td>\n",
       "      <td>Cumings, Mrs. John Bradley (Florence Briggs Th...</td>\n",
       "      <td>female</td>\n",
       "      <td>38.0</td>\n",
       "      <td>1</td>\n",
       "      <td>0</td>\n",
       "      <td>PC 17599</td>\n",
       "      <td>71.2833</td>\n",
       "      <td>C85</td>\n",
       "      <td>C</td>\n",
       "    </tr>\n",
       "    <tr>\n",
       "      <th>2</th>\n",
       "      <td>3</td>\n",
       "      <td>1</td>\n",
       "      <td>3</td>\n",
       "      <td>Heikkinen, Miss. Laina</td>\n",
       "      <td>female</td>\n",
       "      <td>26.0</td>\n",
       "      <td>0</td>\n",
       "      <td>0</td>\n",
       "      <td>STON/O2. 3101282</td>\n",
       "      <td>7.9250</td>\n",
       "      <td>NaN</td>\n",
       "      <td>S</td>\n",
       "    </tr>\n",
       "    <tr>\n",
       "      <th>3</th>\n",
       "      <td>4</td>\n",
       "      <td>1</td>\n",
       "      <td>1</td>\n",
       "      <td>Futrelle, Mrs. Jacques Heath (Lily May Peel)</td>\n",
       "      <td>female</td>\n",
       "      <td>35.0</td>\n",
       "      <td>1</td>\n",
       "      <td>0</td>\n",
       "      <td>113803</td>\n",
       "      <td>53.1000</td>\n",
       "      <td>C123</td>\n",
       "      <td>S</td>\n",
       "    </tr>\n",
       "    <tr>\n",
       "      <th>4</th>\n",
       "      <td>5</td>\n",
       "      <td>0</td>\n",
       "      <td>3</td>\n",
       "      <td>Allen, Mr. William Henry</td>\n",
       "      <td>male</td>\n",
       "      <td>35.0</td>\n",
       "      <td>0</td>\n",
       "      <td>0</td>\n",
       "      <td>373450</td>\n",
       "      <td>8.0500</td>\n",
       "      <td>NaN</td>\n",
       "      <td>S</td>\n",
       "    </tr>\n",
       "  </tbody>\n",
       "</table>\n",
       "</div>"
      ],
      "text/plain": [
       "   PassengerId  Survived  Pclass  \\\n",
       "0            1         0       3   \n",
       "1            2         1       1   \n",
       "2            3         1       3   \n",
       "3            4         1       1   \n",
       "4            5         0       3   \n",
       "\n",
       "                                                Name     Sex   Age  SibSp  \\\n",
       "0                            Braund, Mr. Owen Harris    male  22.0      1   \n",
       "1  Cumings, Mrs. John Bradley (Florence Briggs Th...  female  38.0      1   \n",
       "2                             Heikkinen, Miss. Laina  female  26.0      0   \n",
       "3       Futrelle, Mrs. Jacques Heath (Lily May Peel)  female  35.0      1   \n",
       "4                           Allen, Mr. William Henry    male  35.0      0   \n",
       "\n",
       "   Parch            Ticket     Fare Cabin Embarked  \n",
       "0      0         A/5 21171   7.2500   NaN        S  \n",
       "1      0          PC 17599  71.2833   C85        C  \n",
       "2      0  STON/O2. 3101282   7.9250   NaN        S  \n",
       "3      0            113803  53.1000  C123        S  \n",
       "4      0            373450   8.0500   NaN        S  "
      ]
     },
     "execution_count": 5,
     "metadata": {},
     "output_type": "execute_result"
    }
   ],
   "source": [
    "train.head()"
   ]
  },
  {
   "cell_type": "markdown",
   "id": "a4dfcb53",
   "metadata": {},
   "source": [
    "Noted:\n",
    "\n",
    "pclass: A proxy for socio-economic status (SES)\n",
    "1st = Upper\n",
    "2nd = Middle\n",
    "3rd = Lower\n",
    "\n",
    "age: Age is fractional if less than 1. If the age is estimated, is it in the form of xx.5\n",
    "\n",
    "sibsp: The dataset defines family relations in this way...\n",
    "Sibling = brother, sister, stepbrother, stepsister\n",
    "Spouse = husband, wife (mistresses and fiancés were ignored)\n",
    "\n",
    "parch: The dataset defines family relations in this way...\n",
    "Parent = mother, father\n",
    "Child = daughter, son, stepdaughter, stepson\n",
    "Some children travelled only with a nanny, therefore parch=0 for them.\n",
    "\n",
    "Embarked is Port of Embarkation.C = Cherbourg, Q = Queenstown, S = Southampton\n",
    "\n",
    "\n"
   ]
  },
  {
   "cell_type": "markdown",
   "id": "836a15d6",
   "metadata": {},
   "source": [
    "As we can see, most of our features are complete and no missing values. But some columns indeed have missing values. \n",
    "\n",
    "In Cabin, 77% are missed, we could drop it.\n",
    "\n",
    "In Age column, 20% are missed, we could find some ways to fill in them.\n",
    "\n",
    "The Embarked column is with 0.22% missing,we can fill in them or simply drop those rows.\n",
    "\n",
    "\n",
    "Pay attention to our categories variables:\n",
    "\n",
    "Sex is a binary variable, we can encode it by LabelEncoder or get_dummies or One Hot Encoder.\n",
    "\n",
    "Name is of no use, we could drop this column.\n",
    "\n",
    "Cabin is also unuseful, but as we mentioned above, with 70% valus missing, we could simply drop it.\n",
    "\n",
    "Ticket is also of no use, we drop it.\n",
    "\n",
    "Embarked also can be encoded with encoding commands."
   ]
  },
  {
   "cell_type": "code",
   "execution_count": 6,
   "id": "7a9cb895",
   "metadata": {
    "scrolled": true
   },
   "outputs": [
    {
     "data": {
      "text/plain": [
       "S    644\n",
       "C    168\n",
       "Q     77\n",
       "Name: Embarked, dtype: int64"
      ]
     },
     "execution_count": 6,
     "metadata": {},
     "output_type": "execute_result"
    }
   ],
   "source": [
    "train['Embarked'].value_counts()"
   ]
  },
  {
   "cell_type": "markdown",
   "id": "01a61f94",
   "metadata": {},
   "source": [
    "So we can use the most frequent 'S' to fill in the missing values in this column."
   ]
  },
  {
   "cell_type": "code",
   "execution_count": 7,
   "id": "b09bb4e8",
   "metadata": {},
   "outputs": [],
   "source": [
    "def clean(data):\n",
    "    data.drop(['Cabin','Name','Ticket'],axis=1,inplace=True)\n",
    "    \n",
    "    \n",
    "    data['Age']=data.groupby(['Pclass','Sex'])['Age'].transform(lambda x: x.fillna(x.median()))\n",
    "\n",
    "    \n",
    "    data['Fare']=data.groupby(['Pclass','Sex'])['Fare'].transform(lambda x:x.fillna(x.median()))\n",
    "    \n",
    "    data['Embarked']=data['Embarked'].fillna(value='S')\n",
    "                                            \n",
    "    le=preprocessing.LabelEncoder()\n",
    "    \n",
    "    data['Sex'].replace({'male':0,'female':1},inplace=True)\n",
    "    data['Embarked'].replace({'S':0,'C':1,'Q':2},inplace=True)\n",
    "    \n",
    "    return data"
   ]
  },
  {
   "cell_type": "code",
   "execution_count": 8,
   "id": "6773c6e5",
   "metadata": {},
   "outputs": [],
   "source": [
    "cleantrain=clean(train)\n",
    "cleantest=clean(test)"
   ]
  },
  {
   "cell_type": "code",
   "execution_count": 9,
   "id": "925fe2d8",
   "metadata": {},
   "outputs": [
    {
     "data": {
      "text/html": [
       "<div>\n",
       "<style scoped>\n",
       "    .dataframe tbody tr th:only-of-type {\n",
       "        vertical-align: middle;\n",
       "    }\n",
       "\n",
       "    .dataframe tbody tr th {\n",
       "        vertical-align: top;\n",
       "    }\n",
       "\n",
       "    .dataframe thead th {\n",
       "        text-align: right;\n",
       "    }\n",
       "</style>\n",
       "<table border=\"1\" class=\"dataframe\">\n",
       "  <thead>\n",
       "    <tr style=\"text-align: right;\">\n",
       "      <th></th>\n",
       "      <th>PassengerId</th>\n",
       "      <th>Survived</th>\n",
       "      <th>Pclass</th>\n",
       "      <th>Sex</th>\n",
       "      <th>Age</th>\n",
       "      <th>SibSp</th>\n",
       "      <th>Parch</th>\n",
       "      <th>Fare</th>\n",
       "      <th>Embarked</th>\n",
       "    </tr>\n",
       "  </thead>\n",
       "  <tbody>\n",
       "    <tr>\n",
       "      <th>0</th>\n",
       "      <td>1</td>\n",
       "      <td>0</td>\n",
       "      <td>3</td>\n",
       "      <td>0</td>\n",
       "      <td>22.0</td>\n",
       "      <td>1</td>\n",
       "      <td>0</td>\n",
       "      <td>7.2500</td>\n",
       "      <td>0</td>\n",
       "    </tr>\n",
       "    <tr>\n",
       "      <th>1</th>\n",
       "      <td>2</td>\n",
       "      <td>1</td>\n",
       "      <td>1</td>\n",
       "      <td>1</td>\n",
       "      <td>38.0</td>\n",
       "      <td>1</td>\n",
       "      <td>0</td>\n",
       "      <td>71.2833</td>\n",
       "      <td>1</td>\n",
       "    </tr>\n",
       "    <tr>\n",
       "      <th>2</th>\n",
       "      <td>3</td>\n",
       "      <td>1</td>\n",
       "      <td>3</td>\n",
       "      <td>1</td>\n",
       "      <td>26.0</td>\n",
       "      <td>0</td>\n",
       "      <td>0</td>\n",
       "      <td>7.9250</td>\n",
       "      <td>0</td>\n",
       "    </tr>\n",
       "    <tr>\n",
       "      <th>3</th>\n",
       "      <td>4</td>\n",
       "      <td>1</td>\n",
       "      <td>1</td>\n",
       "      <td>1</td>\n",
       "      <td>35.0</td>\n",
       "      <td>1</td>\n",
       "      <td>0</td>\n",
       "      <td>53.1000</td>\n",
       "      <td>0</td>\n",
       "    </tr>\n",
       "    <tr>\n",
       "      <th>4</th>\n",
       "      <td>5</td>\n",
       "      <td>0</td>\n",
       "      <td>3</td>\n",
       "      <td>0</td>\n",
       "      <td>35.0</td>\n",
       "      <td>0</td>\n",
       "      <td>0</td>\n",
       "      <td>8.0500</td>\n",
       "      <td>0</td>\n",
       "    </tr>\n",
       "  </tbody>\n",
       "</table>\n",
       "</div>"
      ],
      "text/plain": [
       "   PassengerId  Survived  Pclass  Sex   Age  SibSp  Parch     Fare  Embarked\n",
       "0            1         0       3    0  22.0      1      0   7.2500         0\n",
       "1            2         1       1    1  38.0      1      0  71.2833         1\n",
       "2            3         1       3    1  26.0      0      0   7.9250         0\n",
       "3            4         1       1    1  35.0      1      0  53.1000         0\n",
       "4            5         0       3    0  35.0      0      0   8.0500         0"
      ]
     },
     "execution_count": 9,
     "metadata": {},
     "output_type": "execute_result"
    }
   ],
   "source": [
    "cleantrain.head()"
   ]
  },
  {
   "cell_type": "code",
   "execution_count": 10,
   "id": "1e8e7cba",
   "metadata": {
    "scrolled": true
   },
   "outputs": [
    {
     "name": "stdout",
     "output_type": "stream",
     "text": [
      "<class 'pandas.core.frame.DataFrame'>\n",
      "RangeIndex: 891 entries, 0 to 890\n",
      "Data columns (total 9 columns):\n",
      " #   Column       Non-Null Count  Dtype  \n",
      "---  ------       --------------  -----  \n",
      " 0   PassengerId  891 non-null    int64  \n",
      " 1   Survived     891 non-null    int64  \n",
      " 2   Pclass       891 non-null    int64  \n",
      " 3   Sex          891 non-null    int64  \n",
      " 4   Age          891 non-null    float64\n",
      " 5   SibSp        891 non-null    int64  \n",
      " 6   Parch        891 non-null    int64  \n",
      " 7   Fare         891 non-null    float64\n",
      " 8   Embarked     891 non-null    int64  \n",
      "dtypes: float64(2), int64(7)\n",
      "memory usage: 62.8 KB\n",
      "<class 'pandas.core.frame.DataFrame'>\n",
      "RangeIndex: 418 entries, 0 to 417\n",
      "Data columns (total 8 columns):\n",
      " #   Column       Non-Null Count  Dtype  \n",
      "---  ------       --------------  -----  \n",
      " 0   PassengerId  418 non-null    int64  \n",
      " 1   Pclass       418 non-null    int64  \n",
      " 2   Sex          418 non-null    int64  \n",
      " 3   Age          418 non-null    float64\n",
      " 4   SibSp        418 non-null    int64  \n",
      " 5   Parch        418 non-null    int64  \n",
      " 6   Fare         418 non-null    float64\n",
      " 7   Embarked     418 non-null    int64  \n",
      "dtypes: float64(2), int64(6)\n",
      "memory usage: 26.2 KB\n"
     ]
    }
   ],
   "source": [
    "cleantrain.info()\n",
    "cleantest.info()"
   ]
  },
  {
   "cell_type": "markdown",
   "id": "516f924c",
   "metadata": {},
   "source": [
    "As we can see, all missing values have benn handled."
   ]
  },
  {
   "cell_type": "code",
   "execution_count": 11,
   "id": "1f1fe725",
   "metadata": {},
   "outputs": [],
   "source": [
    "import copy\n",
    "a=b=copy.deepcopy(cleantrain)\n",
    "c=d=copy.deepcopy(cleantest)"
   ]
  },
  {
   "cell_type": "code",
   "execution_count": 12,
   "id": "1d2ffd2a",
   "metadata": {},
   "outputs": [],
   "source": [
    "y=a['Survived']\n",
    "X=pd.get_dummies(a.drop('Survived',axis=1))\n",
    "\n",
    "'''\n",
    "get_dummies could transform non-numerical data , while leaving int and float data unchanged.\n",
    "\n",
    "'''\n",
    "X_train,X_test,y_train,y_test=train_test_split(X,y,test_size=.2,random_state=4)\n"
   ]
  },
  {
   "cell_type": "code",
   "execution_count": 14,
   "id": "62af1920",
   "metadata": {
    "scrolled": true
   },
   "outputs": [
    {
     "name": "stdout",
     "output_type": "stream",
     "text": [
      "model: LogisticRegression(random_state=4, solver='liblinear')\n",
      "accuracy: 0.8268156424581006\n",
      "recall: 0.8268156424581006\n",
      "---------------\n",
      "model: GradientBoostingClassifier()\n",
      "accuracy: 0.8491620111731844\n",
      "recall: 0.8491620111731844\n",
      "---------------\n",
      "model: RandomForestClassifier()\n",
      "accuracy: 0.8659217877094972\n",
      "recall: 0.8603351955307262\n",
      "---------------\n",
      "model: SGDClassifier()\n",
      "accuracy: 0.329608938547486\n",
      "recall: 0.659217877094972\n",
      "---------------\n",
      "model: SVC()\n",
      "accuracy: 0.6983240223463687\n",
      "recall: 0.6983240223463687\n",
      "---------------\n"
     ]
    }
   ],
   "source": [
    "from sklearn.metrics import accuracy_score,recall_score \n",
    "\n",
    "def mypredict(model):\n",
    "    #evaluate models\n",
    "    model.fit(X_train, y_train)\n",
    "    prediction=model.predict(X_test)\n",
    "    return accuracy_score(y_test,prediction),recall_score(y_test,prediction,average='weighted')\n",
    "\n",
    "\n",
    "model1=LogisticRegression(solver='liblinear',random_state=4)\n",
    "model2=GradientBoostingClassifier()   #pay attention to the brackets here\n",
    "model3=RandomForestClassifier()\n",
    "model4=SGDClassifier()\n",
    "model5=SVC()\n",
    "\n",
    "models=[model1,model2,model3,model4,model5]\n",
    "for m in models:\n",
    "    \n",
    "    print('model:',m)\n",
    "    print('accuracy:',mypredict(m)[0])\n",
    "    print('recall:',mypredict(m)[1])\n",
    "    print('---'*5)"
   ]
  },
  {
   "cell_type": "markdown",
   "id": "66aaeab2",
   "metadata": {},
   "source": [
    "We can see RandomForest performs best.\\\n",
    "We use it as our final model."
   ]
  },
  {
   "cell_type": "code",
   "execution_count": 16,
   "id": "73d6774a",
   "metadata": {},
   "outputs": [
    {
     "name": "stdout",
     "output_type": "stream",
     "text": [
      "(0.8603351955307262, 0.8603351955307262)\n"
     ]
    }
   ],
   "source": [
    "model=RandomForestClassifier()\n",
    "print(mypredict(model))"
   ]
  },
  {
   "cell_type": "code",
   "execution_count": 18,
   "id": "9eb82e15",
   "metadata": {},
   "outputs": [],
   "source": [
    "predict=model.predict(pd.get_dummies(cleantest))\n",
    "\n",
    "result=pd.DataFrame({'PassengerId':cleantest.PassengerId,'Survived':predict})\n",
    "result.to_csv('Pred0308.csv',index=False)\n"
   ]
  }
 ],
 "metadata": {
  "kernelspec": {
   "display_name": "Python 3 (ipykernel)",
   "language": "python",
   "name": "python3"
  },
  "language_info": {
   "codemirror_mode": {
    "name": "ipython",
    "version": 3
   },
   "file_extension": ".py",
   "mimetype": "text/x-python",
   "name": "python",
   "nbconvert_exporter": "python",
   "pygments_lexer": "ipython3",
   "version": "3.9.7"
  }
 },
 "nbformat": 4,
 "nbformat_minor": 5
}
